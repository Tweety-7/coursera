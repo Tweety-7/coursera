{
 "cells": [
  {
   "cell_type": "markdown",
   "metadata": {},
   "source": [
    "**РљРѕСЂСЂРµРєС‚РЅРѕСЃС‚СЊ РїСЂРѕРІРµСЂРµРЅР° РЅР° Python 3.6:**\n",
    "+ pandas 0.23.4\n",
    "+ numpy 1.15.4\n",
    "+ matplotlib 3.0.2\n",
    "+ seaborn 0.9.0"
   ]
  },
  {
   "cell_type": "markdown",
   "metadata": {},
   "source": [
    "# Р›РёРЅРµР№РЅР°СЏ СЂРµРіСЂРµСЃСЃРёСЏ Рё РѕСЃРЅРѕРІРЅС‹Рµ Р±РёР±Р»РёРѕС‚РµРєРё Python РґР»СЏ Р°РЅР°Р»РёР·Р° РґР°РЅРЅС‹С… Рё РЅР°СѓС‡РЅС‹С… РІС‹С‡РёСЃР»РµРЅРёР№"
   ]
  },
  {
   "cell_type": "markdown",
   "metadata": {},
   "source": [
    "Р­С‚Рѕ Р·Р°РґР°РЅРёРµ РїРѕСЃРІСЏС‰РµРЅРѕ Р»РёРЅРµР№РЅРѕР№ СЂРµРіСЂРµСЃСЃРёРё. РќР° РїСЂРёРјРµСЂРµ РїСЂРѕРіРЅРѕР·РёСЂРѕРІР°РЅРёСЏ СЂРѕСЃС‚Р° С‡РµР»РѕРІРµРєР° РїРѕ РµРіРѕ РІРµСЃСѓ Р’С‹ СѓРІРёРґРёС‚Рµ, РєР°РєР°СЏ РјР°С‚РµРјР°С‚РёРєР° Р·Р° СЌС‚РёРј СЃС‚РѕРёС‚, Р° Р·Р°РѕРґРЅРѕ РїРѕР·РЅР°РєРѕРјРёС‚РµСЃСЊ СЃ РѕСЃРЅРѕРІРЅС‹РјРё Р±РёР±Р»РёРѕС‚РµРєР°РјРё Python, РЅРµРѕР±С…РѕРґРёРјС‹РјРё РґР»СЏ РґР°Р»СЊРЅРµР№С€РµРіРѕ РїСЂРѕС…РѕР¶РґРµРЅРёСЏ РєСѓСЂСЃР°."
   ]
  },
  {
   "cell_type": "markdown",
   "metadata": {},
   "source": [
    "**РњР°С‚РµСЂРёР°Р»С‹**\n",
    "\n",
    "- Р›РµРєС†РёРё РґР°РЅРЅРѕРіРѕ РєСѓСЂСЃР° РїРѕ Р»РёРЅРµР№РЅС‹Рј РјРѕРґРµР»СЏРј Рё РіСЂР°РґРёРµРЅС‚РЅРѕРјСѓ СЃРїСѓСЃРєСѓ\n",
    "- [Р”РѕРєСѓРјРµРЅС‚Р°С†РёСЏ](http://docs.scipy.org/doc/) РїРѕ Р±РёР±Р»РёРѕС‚РµРєР°Рј NumPy Рё SciPy\n",
    "- [Р”РѕРєСѓРјРµРЅС‚Р°С†РёСЏ](http://matplotlib.org/) РїРѕ Р±РёР±Р»РёРѕС‚РµРєРµ Matplotlib \n",
    "- [Р”РѕРєСѓРјРµРЅС‚Р°С†РёСЏ](http://pandas.pydata.org/pandas-docs/stable/tutorials.html) РїРѕ Р±РёР±Р»РёРѕС‚РµРєРµ Pandas\n",
    "- [Pandas Cheat Sheet](http://www.analyticsvidhya.com/blog/2015/07/11-steps-perform-data-analysis-pandas-python/)\n",
    "- [Р”РѕРєСѓРјРµРЅС‚Р°С†РёСЏ](http://stanford.edu/~mwaskom/software/seaborn/) РїРѕ Р±РёР±Р»РёРѕС‚РµРєРµ Seaborn "
   ]
  },
  {
   "cell_type": "markdown",
   "metadata": {},
   "source": [
    "## Р—Р°РґР°РЅРёРµ 1. РџРµСЂРІРёС‡РЅС‹Р№ Р°РЅР°Р»РёР· РґР°РЅРЅС‹С… c Pandas"
   ]
  },
  {
   "cell_type": "markdown",
   "metadata": {},
   "source": [
    "Р’ СЌС‚РѕРј Р·Р°РґР°РЅРёРёРё РјС‹ Р±СѓРґРµРј РёСЃРїРѕР»СЊР·РѕРІР°С‚СЊ РґР°РЅРЅС‹Рµ [SOCR](http://wiki.stat.ucla.edu/socr/index.php/SOCR_Data_Dinov_020108_HeightsWeights) РїРѕ СЂРѕСЃС‚Сѓ Рё РІРµСЃСѓ 25 С‚С‹СЃСЏС‡ РїРѕРґСЂРѕСЃС‚РєРѕРІ."
   ]
  },
  {
   "cell_type": "markdown",
   "metadata": {},
   "source": [
    "**[1].** Р•СЃР»Рё Сѓ Р’Р°СЃ РЅРµ СѓСЃС‚Р°РЅРѕРІР»РµРЅР° Р±РёР±Р»РёРѕС‚РµРєР° Seaborn - РІС‹РїРѕР»РЅРёС‚Рµ РІ С‚РµСЂРјРёРЅР°Р»Рµ РєРѕРјР°РЅРґСѓ *conda install seaborn*. (Seaborn РЅРµ РІС…РѕРґРёС‚ РІ СЃР±РѕСЂРєСѓ Anaconda, РЅРѕ СЌС‚Р° Р±РёР±Р»РёРѕС‚РµРєР° РїСЂРµРґРѕСЃС‚Р°РІР»СЏРµС‚ СѓРґРѕР±РЅСѓСЋ РІС‹СЃРѕРєРѕСѓСЂРѕРІРЅРµРІСѓСЋ С„СѓРЅРєС†РёРѕРЅР°Р»СЊРЅРѕСЃС‚СЊ РґР»СЏ РІРёР·СѓР°Р»РёР·Р°С†РёРё РґР°РЅРЅС‹С…)."
   ]
  },
  {
   "cell_type": "code",
   "execution_count": 1,
   "metadata": {},
   "outputs": [],
   "source": [
    "import numpy as np\n",
    "import pandas as pd\n",
    "import seaborn as sns\n",
    "import matplotlib.pyplot as plt\n",
    "%matplotlib inline"
   ]
  },
  {
   "cell_type": "markdown",
   "metadata": {},
   "source": [
    "РЎС‡РёС‚Р°РµРј РґР°РЅРЅС‹Рµ РїРѕ СЂРѕСЃС‚Сѓ Рё РІРµСЃСѓ (*weights_heights.csv*, РїСЂРёР»РѕР¶РµРЅРЅС‹Р№ РІ Р·Р°РґР°РЅРёРё) РІ РѕР±СЉРµРєС‚ Pandas DataFrame:"
   ]
  },
  {
   "cell_type": "code",
   "execution_count": 3,
   "metadata": {},
   "outputs": [],
   "source": [
    "data = pd.read_csv('weights_heights.csv', index_col='Index')"
   ]
  },
  {
   "cell_type": "markdown",
   "metadata": {},
   "source": [
    "Р§Р°С‰Рµ РІСЃРµРіРѕ РїРµСЂРІРѕРµ, С‡С‚Рѕ РЅР°РґРѕ РЅР°РґРѕ СЃРґРµР»Р°С‚СЊ РїРѕСЃР»Рµ СЃС‡РёС‚С‹РІР°РЅРёСЏ РґР°РЅРЅС‹С… - СЌС‚Рѕ РїРѕСЃРјРѕС‚СЂРµС‚СЊ РЅР° РїРµСЂРІС‹Рµ РЅРµСЃРєРѕР»СЊРєРѕ Р·Р°РїРёСЃРµР№. РўР°Рє РјРѕР¶РЅРѕ РѕС‚Р»РѕРІРёС‚СЊ РѕС€РёР±РєРё С‡С‚РµРЅРёСЏ РґР°РЅРЅС‹С… (РЅР°РїСЂРёРјРµСЂ, РµСЃР»Рё РІРјРµСЃС‚Рѕ 10 СЃС‚РѕР»Р±С†РѕРІ РїРѕР»СѓС‡РёР»СЃСЏ РѕРґРёРЅ, РІ РЅР°Р·РІР°РЅРёРё РєРѕС‚РѕСЂРѕРіРѕ 9 С‚РѕС‡РµРє СЃ Р·Р°РїСЏС‚РѕР№). РўР°РєР¶Рµ СЌС‚Рѕ РїРѕР·РІРѕР»СЏРµС‚ РїРѕР·РЅР°РєРѕРјРёС‚СЊСЃСЏ СЃ РґР°РЅРЅС‹РјРё, РєР°Рє РјРёРЅРёРјСѓРј, РїРѕСЃРјРѕС‚СЂРµС‚СЊ РЅР° РїСЂРёР·РЅР°РєРё Рё РёС… РїСЂРёСЂРѕРґСѓ (РєРѕР»РёС‡РµСЃС‚РІРµРЅРЅС‹Р№, РєР°С‚РµРіРѕСЂРёР°Р»СЊРЅС‹Р№ Рё С‚.Рґ.). \n",
    "\n",
    "РџРѕСЃР»Рµ СЌС‚РѕРіРѕ СЃС‚РѕРёС‚ РїРѕСЃС‚СЂРѕРёС‚СЊ РіРёСЃС‚РѕРіСЂР°РјРјС‹ СЂР°СЃРїСЂРµРґРµР»РµРЅРёСЏ РїСЂРёР·РЅР°РєРѕРІ - СЌС‚Рѕ РѕРїСЏС‚СЊ-С‚Р°РєРё РїРѕР·РІРѕР»СЏРµС‚ РїРѕРЅСЏС‚СЊ РїСЂРёСЂРѕРґСѓ РїСЂРёР·РЅР°РєР° (СЃС‚РµРїРµРЅРЅРѕРµ Сѓ РЅРµРіРѕ СЂР°СЃРїСЂРµРґРµР»РµРЅРёРµ, РёР»Рё РЅРѕСЂРјР°Р»СЊРЅРѕРµ, РёР»Рё РєР°РєРѕРµ-С‚Рѕ РµС‰Рµ). РўР°РєР¶Рµ Р±Р»Р°РіРѕРґР°СЂСЏ РіРёСЃС‚РѕРіСЂР°РјРјРµ РјРѕР¶РЅРѕ РЅР°Р№С‚Рё РєР°РєРёРµ-С‚Рѕ Р·РЅР°С‡РµРЅРёСЏ, СЃРёР»СЊРЅРѕ РЅРµ РїРѕС…РѕР¶РёРµ РЅР° РґСЂСѓРіРёРµ - \"РІС‹Р±СЂРѕСЃС‹\" РІ РґР°РЅРЅС‹С…. \n",
    "Р“РёСЃС‚РѕРіСЂР°РјРјС‹ СѓРґРѕР±РЅРѕ СЃС‚СЂРѕРёС‚СЊ РјРµС‚РѕРґРѕРј *plot* Pandas DataFrame СЃ Р°СЂРіСѓРјРµРЅС‚РѕРј *kind='hist'*.\n",
    "\n",
    "**РџСЂРёРјРµСЂ.** РџРѕСЃС‚СЂРѕРёРј РіРёСЃС‚РѕРіСЂР°РјРјСѓ СЂР°СЃРїСЂРµРґРµР»РµРЅРёСЏ СЂРѕСЃС‚Р° РїРѕРґСЂРѕСЃС‚РєРѕРІ РёР· РІС‹Р±РѕСЂРєРё *data*. РСЃРїРѕР»СЊР·СѓРµРј РјРµС‚РѕРґ *plot* РґР»СЏ DataFrame *data* c Р°СЂРіСѓРјРµРЅС‚Р°РјРё *y='Height'* (СЌС‚Рѕ С‚РѕС‚ РїСЂРёР·РЅР°Рє, СЂР°СЃРїСЂРµРґРµР»РµРЅРёРµ РєРѕС‚РѕСЂРѕРіРѕ РјС‹ СЃС‚СЂРѕРёРј)"
   ]
  },
  {
   "cell_type": "code",
   "execution_count": 4,
   "metadata": {},
   "outputs": [
    {
     "data": {
      "text/plain": [
       "<matplotlib.axes._subplots.AxesSubplot at 0x7f8f49058290>"
      ]
     },
     "execution_count": 4,
     "metadata": {},
     "output_type": "execute_result"
    },
    {
     "data": {
      "image/png": "[encoded data removed]",
      "text/plain": [
       "<Figure size 432x288 with 1 Axes>"
      ]
     },
     "metadata": {
      "needs_background": "light"
     },
     "output_type": "display_data"
    }
   ],
   "source": [
    "data.plot(y='Height', kind='hist', \n",
    "           color='red',  title='Height (inch.) distribution')"
   ]
  },
  {
   "cell_type": "markdown",
   "metadata": {},
   "source": [
    "РђСЂРіСѓРјРµРЅС‚С‹:\n",
    "\n",
    "- *y='Height'* - С‚РѕС‚ РїСЂРёР·РЅР°Рє, СЂР°СЃРїСЂРµРґРµР»РµРЅРёРµ РєРѕС‚РѕСЂРѕРіРѕ РјС‹ СЃС‚СЂРѕРёРј\n",
    "- *kind='hist'* - РѕР·РЅР°С‡Р°РµС‚, С‡С‚Рѕ СЃС‚СЂРѕРёС‚СЃСЏ РіРёСЃС‚РѕРіСЂР°РјРјР°\n",
    "- *color='red'* - С†РІРµС‚"
   ]
  },
  {
   "cell_type": "markdown",
   "metadata": {},
   "source": [
    "**[2]**. РџРѕСЃРјРѕС‚СЂРёС‚Рµ РЅР° РїРµСЂРІС‹Рµ 5 Р·Р°РїРёСЃРµР№ СЃ РїРѕРјРѕС‰СЊСЋ РјРµС‚РѕРґР° *head* Pandas DataFrame. РќР°СЂРёСЃСѓР№С‚Рµ РіРёСЃС‚РѕРіСЂР°РјРјСѓ СЂР°СЃРїСЂРµРґРµР»РµРЅРёСЏ РІРµСЃР° СЃ РїРѕРјРѕС‰СЊСЋ РјРµС‚РѕРґР° *plot* Pandas DataFrame. РЎРґРµР»Р°Р№С‚Рµ РіРёСЃС‚РѕРіСЂР°РјРјСѓ Р·РµР»РµРЅРѕР№, РїРѕРґРїРёС€РёС‚Рµ РєР°СЂС‚РёРЅРєСѓ."
   ]
  },
  {
   "cell_type": "code",
   "execution_count": 5,
   "metadata": {},
   "outputs": [],
   "source": [
    "# Р’Р°С€ РєРѕРґ Р·РґРµСЃСЊ"
   ]
  },
  {
   "cell_type": "code",
   "execution_count": 6,
   "metadata": {},
   "outputs": [],
   "source": [
    "# Р’Р°С€ РєРѕРґ Р·РґРµСЃСЊ"
   ]
  },
  {
   "cell_type": "markdown",
   "metadata": {},
   "source": [
    "РћРґРёРЅ РёР· СЌС„С„РµРєС‚РёРІРЅС‹С… РјРµС‚РѕРґРѕРІ РїРµСЂРІРёС‡РЅРѕРіРѕ Р°РЅР°Р»РёР·Р° РґР°РЅРЅС‹С… - РѕС‚РѕР±СЂР°Р¶РµРЅРёРµ РїРѕРїР°СЂРЅС‹С… Р·Р°РІРёСЃРёРјРѕСЃС‚РµР№ РїСЂРёР·РЅР°РєРѕРІ. РЎРѕР·РґР°РµС‚СЃСЏ $m \\times m$ РіСЂР°С„РёРєРѕРІ (*m* - С‡РёСЃР»Рѕ РїСЂРёР·РЅР°РєРѕРІ), РіРґРµ РїРѕ РґРёР°РіРѕРЅР°Р»Рё СЂРёСЃСѓСЋС‚СЃСЏ РіРёСЃС‚РѕРіСЂР°РјРјС‹ СЂР°СЃРїСЂРµРґРµР»РµРЅРёСЏ РїСЂРёР·РЅР°РєРѕРІ, Р° РІРЅРµ РґРёР°РіРѕРЅР°Р»Рё - scatter plots Р·Р°РІРёСЃРёРјРѕСЃС‚Рё РґРІСѓС… РїСЂРёР·РЅР°РєРѕРІ. Р­С‚Рѕ РјРѕР¶РЅРѕ РґРµР»Р°С‚СЊ СЃ РїРѕРјРѕС‰СЊСЋ РјРµС‚РѕРґР° $scatter\\_matrix$ Pandas Data Frame РёР»Рё *pairplot* Р±РёР±Р»РёРѕС‚РµРєРё Seaborn. \n",
    "\n",
    "Р§С‚РѕР±С‹ РїСЂРѕРёР»Р»СЋСЃС‚СЂРёСЂРѕРІР°С‚СЊ СЌС‚РѕС‚ РјРµС‚РѕРґ, РёРЅС‚РµСЂРµСЃРЅРµР№ РґРѕР±Р°РІРёС‚СЊ С‚СЂРµС‚РёР№ РїСЂРёР·РЅР°Рє. РЎРѕР·РґР°РґРёРј РїСЂРёР·РЅР°Рє *РРЅРґРµРєСЃ РјР°СЃСЃС‹ С‚РµР»Р°* ([BMI](https://en.wikipedia.org/wiki/Body_mass_index)). Р”Р»СЏ СЌС‚РѕРіРѕ РІРѕСЃРїРѕР»СЊР·СѓРµРјСЃСЏ СѓРґРѕР±РЅРѕР№ СЃРІСЏР·РєРѕР№ РјРµС‚РѕРґР° *apply* Pandas DataFrame Рё lambda-С„СѓРЅРєС†РёР№ Python."
   ]
  },
  {
   "cell_type": "code",
   "execution_count": 7,
   "metadata": {},
   "outputs": [],
   "source": [
    "def make_bmi(height_inch, weight_pound):\n",
    "    METER_TO_INCH, KILO_TO_POUND = 39.37, 2.20462\n",
    "    return (weight_pound / KILO_TO_POUND) / \\\n",
    "           (height_inch / METER_TO_INCH) ** 2"
   ]
  },
  {
   "cell_type": "code",
   "execution_count": 8,
   "metadata": {},
   "outputs": [],
   "source": [
    "data['BMI'] = data.apply(lambda row: make_bmi(row['Height'], \n",
    "                                              row['Weight']), axis=1)"
   ]
  },
  {
   "cell_type": "markdown",
   "metadata": {},
   "source": [
    "**[3].** РџРѕСЃС‚СЂРѕР№С‚Рµ РєР°СЂС‚РёРЅРєСѓ, РЅР° РєРѕС‚РѕСЂРѕР№ Р±СѓРґСѓС‚ РѕС‚РѕР±СЂР°Р¶РµРЅС‹ РїРѕРїР°СЂРЅС‹Рµ Р·Р°РІРёСЃРёРјРѕСЃС‚Рё РїСЂРёР·РЅР°РєРѕРІ , 'Height', 'Weight' Рё 'BMI' РґСЂСѓРі РѕС‚ РґСЂСѓРіР°. РСЃРїРѕР»СЊР·СѓР№С‚Рµ РјРµС‚РѕРґ *pairplot* Р±РёР±Р»РёРѕС‚РµРєРё Seaborn."
   ]
  },
  {
   "cell_type": "code",
   "execution_count": 9,
   "metadata": {},
   "outputs": [],
   "source": [
    "# Р’Р°С€ РєРѕРґ Р·РґРµСЃСЊ"
   ]
  },
  {
   "cell_type": "markdown",
   "metadata": {},
   "source": [
    "Р§Р°СЃС‚Рѕ РїСЂРё РїРµСЂРІРёС‡РЅРѕРј Р°РЅР°Р»РёР·Рµ РґР°РЅРЅС‹С… РЅР°РґРѕ РёСЃСЃР»РµРґРѕРІР°С‚СЊ Р·Р°РІРёСЃРёРјРѕСЃС‚СЊ РєР°РєРѕРіРѕ-С‚Рѕ РєРѕР»РёС‡РµСЃС‚РІРµРЅРЅРѕРіРѕ РїСЂРёР·РЅР°РєР° РѕС‚ РєР°С‚РµРіРѕСЂРёР°Р»СЊРЅРѕРіРѕ (СЃРєР°Р¶РµРј, Р·Р°СЂРїР»Р°С‚С‹ РѕС‚ РїРѕР»Р° СЃРѕС‚СЂСѓРґРЅРёРєР°). Р’ СЌС‚РѕРј РїРѕРјРѕРіСѓС‚ \"СЏС‰РёРєРё СЃ СѓСЃР°РјРё\" - boxplots Р±РёР±Р»РёРѕС‚РµРєРё Seaborn. Box plot - СЌС‚Рѕ РєРѕРјРїР°РєС‚РЅС‹Р№ СЃРїРѕСЃРѕР± РїРѕРєР°Р·Р°С‚СЊ СЃС‚Р°С‚РёСЃС‚РёРєРё РІРµС‰РµСЃС‚РІРµРЅРЅРѕРіРѕ РїСЂРёР·РЅР°РєР° (СЃСЂРµРґРЅРµРµ Рё РєРІР°СЂС‚РёР»Рё) РїРѕ СЂР°Р·РЅС‹Рј Р·РЅР°С‡РµРЅРёСЏРј РєР°С‚РµРіРѕСЂРёР°Р»СЊРЅРѕРіРѕ РїСЂРёР·РЅР°РєР°. РўР°РєР¶Рµ РїРѕРјРѕРіР°РµС‚ РѕС‚СЃР»РµР¶РёРІР°С‚СЊ \"РІС‹Р±СЂРѕСЃС‹\" - РЅР°Р±Р»СЋРґРµРЅРёСЏ, РІ РєРѕС‚РѕСЂС‹С… Р·РЅР°С‡РµРЅРёРµ РґР°РЅРЅРѕРіРѕ РІРµС‰РµСЃС‚РІРµРЅРЅРѕРіРѕ РїСЂРёР·РЅР°РєР° СЃРёР»СЊРЅРѕ РѕС‚Р»РёС‡Р°РµС‚СЃСЏ РѕС‚ РґСЂСѓРіРёС…. "
   ]
  },
  {
   "cell_type": "markdown",
   "metadata": {},
   "source": [
    "**[4]**. РЎРѕР·РґР°Р№С‚Рµ РІ DataFrame *data* РЅРѕРІС‹Р№ РїСЂРёР·РЅР°Рє *weight_category*, РєРѕС‚РѕСЂС‹Р№ Р±СѓРґРµС‚ РёРјРµС‚СЊ 3 Р·РЅР°С‡РµРЅРёСЏ: 1 вЂ“ РµСЃР»Рё РІРµСЃ РјРµРЅСЊС€Рµ 120 С„СѓРЅС‚РѕРІ. (~ 54 РєРі.), 3 - РµСЃР»Рё РІРµСЃ  Р±РѕР»СЊС€Рµ РёР»Рё СЂР°РІРµРЅ 150 С„СѓРЅС‚РѕРІ (~68 РєРі.), 2 вЂ“ РІ РѕСЃС‚Р°Р»СЊРЅС‹С… СЃР»СѓС‡Р°СЏС…. РџРѕСЃС‚СЂРѕР№С‚Рµ В«СЏС‰РёРє СЃ СѓСЃР°РјРёВ» (boxplot), РґРµРјРѕРЅСЃС‚СЂРёСЂСѓСЋС‰РёР№ Р·Р°РІРёСЃРёРјРѕСЃС‚СЊ СЂРѕСЃС‚Р° РѕС‚ РІРµСЃРѕРІРѕР№ РєР°С‚РµРіРѕСЂРёРё. РСЃРїРѕР»СЊР·СѓР№С‚Рµ РјРµС‚РѕРґ *boxplot* Р±РёР±Р»РёРѕС‚РµРєРё Seaborn Рё РјРµС‚РѕРґ *apply* Pandas DataFrame. РџРѕРґРїРёС€РёС‚Рµ РѕСЃСЊ *y* РјРµС‚РєРѕР№ В«Р РѕСЃС‚В», РѕСЃСЊ *x* вЂ“ РјРµС‚РєРѕР№ В«Р’РµСЃРѕРІР°СЏ РєР°С‚РµРіРѕСЂРёСЏВ»."
   ]
  },
  {
   "cell_type": "code",
   "execution_count": 10,
   "metadata": {},
   "outputs": [],
   "source": [
    "def weight_category(weight):\n",
    "    pass\n",
    "    # Р’Р°С€ РєРѕРґ Р·РґРµСЃСЊ\n",
    "\n",
    "data['weight_cat'] = data['Weight'].apply(weight_category)\n",
    "# Р’Р°С€ РєРѕРґ Р·РґРµСЃСЊ"
   ]
  },
  {
   "cell_type": "markdown",
   "metadata": {},
   "source": [
    "**[5].** РџРѕСЃС‚СЂРѕР№С‚Рµ scatter plot Р·Р°РІРёСЃРёРјРѕСЃС‚Рё СЂРѕСЃС‚Р° РѕС‚ РІРµСЃР°, РёСЃРїРѕР»СЊР·СѓСЏ РјРµС‚РѕРґ *plot* РґР»СЏ Pandas DataFrame СЃ Р°СЂРіСѓРјРµРЅС‚РѕРј *kind='scatter'*. РџРѕРґРїРёС€РёС‚Рµ РєР°СЂС‚РёРЅРєСѓ."
   ]
  },
  {
   "cell_type": "code",
   "execution_count": 11,
   "metadata": {},
   "outputs": [],
   "source": [
    "# Р’Р°С€ РєРѕРґ Р·РґРµСЃСЊ"
   ]
  },
  {
   "cell_type": "markdown",
   "metadata": {},
   "source": [
    "## Р—Р°РґР°РЅРёРµ 2. РњРёРЅРёРјРёР·Р°С†РёСЏ РєРІР°РґСЂР°С‚РёС‡РЅРѕР№ РѕС€РёР±РєРё"
   ]
  },
  {
   "cell_type": "markdown",
   "metadata": {},
   "source": [
    "Р’ РїСЂРѕСЃС‚РµР№С€РµР№ РїРѕСЃС‚Р°РЅРѕРІРєРµ Р·Р°РґР°С‡Р° РїСЂРѕРіРЅРѕР·Р° Р·РЅР°С‡РµРЅРёСЏ РІРµС‰РµСЃС‚РІРµРЅРЅРѕРіРѕ РїСЂРёР·РЅР°РєР° РїРѕ РїСЂРѕС‡РёРј РїСЂРёР·РЅР°РєР°Рј (Р·Р°РґР°С‡Р° РІРѕСЃСЃС‚Р°РЅРѕРІР»РµРЅРёСЏ СЂРµРіСЂРµСЃСЃРёРё) СЂРµС€Р°РµС‚СЃСЏ РјРёРЅРёРјРёР·Р°С†РёРµР№ РєРІР°РґСЂР°С‚РёС‡РЅРѕР№ С„СѓРЅРєС†РёРё РѕС€РёР±РєРё. \n",
    "\n",
    "**[6].** РќР°РїРёС€РёС‚Рµ С„СѓРЅРєС†РёСЋ, РєРѕС‚РѕСЂР°СЏ РїРѕ РґРІСѓРј РїР°СЂР°РјРµС‚СЂР°Рј $w_0$ Рё $w_1$ РІС‹С‡РёСЃР»СЏРµС‚ РєРІР°РґСЂР°С‚РёС‡РЅСѓСЋ РѕС€РёР±РєСѓ РїСЂРёР±Р»РёР¶РµРЅРёСЏ Р·Р°РІРёСЃРёРјРѕСЃС‚Рё СЂРѕСЃС‚Р° $y$ РѕС‚ РІРµСЃР° $x$ РїСЂСЏРјРѕР№ Р»РёРЅРёРµР№ $y = w_0 + w_1 * x$:\n",
    "$$error(w_0, w_1) = \\sum_{i=1}^n {(y_i - (w_0 + w_1 * x_i))}^2 $$\n",
    "Р—РґРµСЃСЊ $n$ вЂ“ С‡РёСЃР»Рѕ РЅР°Р±Р»СЋРґРµРЅРёР№ РІ РЅР°Р±РѕСЂРµ РґР°РЅРЅС‹С…, $y_i$ Рё $x_i$ вЂ“ СЂРѕСЃС‚ Рё РІРµСЃ $i$-РѕРіРѕ С‡РµР»РѕРІРµРєР° РІ РЅР°Р±РѕСЂРµ РґР°РЅРЅС‹С…. "
   ]
  },
  {
   "cell_type": "code",
   "execution_count": 12,
   "metadata": {},
   "outputs": [],
   "source": [
    "# Р’Р°С€ РєРѕРґ Р·РґРµСЃСЊ"
   ]
  },
  {
   "cell_type": "markdown",
   "metadata": {},
   "source": [
    "РС‚Р°Рє, РјС‹ СЂРµС€Р°РµРј Р·Р°РґР°С‡Сѓ: РєР°Рє С‡РµСЂРµР· РѕР±Р»Р°РєРѕ С‚РѕС‡РµРє, СЃРѕРѕС‚РІРµС‚СЃРІСѓСЋС‰РёС… РЅР°Р±Р»СЋРґРµРЅРёСЏРј РІ РЅР°С€РµРј РЅР°Р±РѕСЂРµ РґР°РЅРЅС‹С…, РІ РїСЂРѕСЃС‚СЂР°РЅСЃС‚РІРµ РїСЂРёР·РЅР°РєРѕРІ \"Р РѕСЃС‚\" Рё \"Р’РµСЃ\" РїСЂРѕРІРµСЃС‚Рё РїСЂСЏРјСѓСЋ Р»РёРЅРёСЋ С‚Р°Рє, С‡С‚РѕР±С‹ РјРёРЅРёРјРёР·РёСЂРѕРІР°С‚СЊ С„СѓРЅРєС†РёРѕРЅР°Р» РёР· Рї. 6. Р”Р»СЏ РЅР°С‡Р°Р»Р° РґР°РІР°Р№С‚Рµ РѕС‚РѕР±СЂР°Р·РёРј С…РѕС‚СЊ РєР°РєРёРµ-С‚Рѕ РїСЂСЏРјС‹Рµ Рё СѓР±РµРґРёРјСЃСЏ, С‡С‚Рѕ РѕРЅРё РїР»РѕС…Рѕ РїРµСЂРµРґР°СЋС‚ Р·Р°РІРёСЃРёРјРѕСЃС‚СЊ СЂРѕСЃС‚Р° РѕС‚ РІРµСЃР°.\n",
    "\n",
    "**[7].** РџСЂРѕРІРµРґРёС‚Рµ РЅР° РіСЂР°С„РёРєРµ РёР· Рї. 5 Р—Р°РґР°РЅРёСЏ 1 РґРІРµ РїСЂСЏРјС‹Рµ, СЃРѕРѕС‚РІРµС‚СЃС‚РІСѓСЋС‰РёРµ Р·РЅР°С‡РµРЅРёСЏРј РїР°СЂР°РјРµС‚СЂРѕРІ ($w_0, w_1) = (60, 0.05)$ Рё ($w_0, w_1) = (50, 0.16)$. РСЃРїРѕР»СЊР·СѓР№С‚Рµ РјРµС‚РѕРґ *plot* РёР· *matplotlib.pyplot*, Р° С‚Р°РєР¶Рµ РјРµС‚РѕРґ *linspace* Р±РёР±Р»РёРѕС‚РµРєРё NumPy. РџРѕРґРїРёС€РёС‚Рµ РѕСЃРё Рё РіСЂР°С„РёРє."
   ]
  },
  {
   "cell_type": "code",
   "execution_count": 13,
   "metadata": {},
   "outputs": [],
   "source": [
    "# Р’Р°С€ РєРѕРґ Р·РґРµСЃСЊ"
   ]
  },
  {
   "cell_type": "markdown",
   "metadata": {},
   "source": [
    "РњРёРЅРёРјРёР·Р°С†РёСЏ РєРІР°РґСЂР°С‚РёС‡РЅРѕР№ С„СѓРЅРєС†РёРё РѕС€РёР±РєРё - РѕС‚РЅРѕСЃРёС‚РµР»СЊРЅР°СЏ РїСЂРѕСЃС‚Р°СЏ Р·Р°РґР°С‡Р°, РїРѕСЃРєРѕР»СЊРєСѓ С„СѓРЅРєС†РёСЏ РІС‹РїСѓРєР»Р°СЏ. Р”Р»СЏ С‚Р°РєРѕР№ Р·Р°РґР°С‡Рё СЃСѓС‰РµСЃС‚РІСѓРµС‚ РјРЅРѕРіРѕ РјРµС‚РѕРґРѕРІ РѕРїС‚РёРјРёР·Р°С†РёРё. РџРѕСЃРјРѕС‚СЂРёРј, РєР°Рє С„СѓРЅРєС†РёСЏ РѕС€РёР±РєРё Р·Р°РІРёСЃРёС‚ РѕС‚ РѕРґРЅРѕРіРѕ РїР°СЂР°РјРµС‚СЂР° (РЅР°РєР»РѕРЅ РїСЂСЏРјРѕР№), РµСЃР»Рё РІС‚РѕСЂРѕР№ РїР°СЂР°РјРµС‚СЂ (СЃРІРѕР±РѕРґРЅС‹Р№ С‡Р»РµРЅ) Р·Р°С„РёРєСЃРёСЂРѕРІР°С‚СЊ.\n",
    "\n",
    "**[8].** РџРѕСЃС‚СЂРѕР№С‚Рµ РіСЂР°С„РёРє Р·Р°РІРёСЃРёРјРѕСЃС‚Рё С„СѓРЅРєС†РёРё РѕС€РёР±РєРё, РїРѕСЃС‡РёС‚Р°РЅРЅРѕР№ РІ Рї. 6, РѕС‚ РїР°СЂР°РјРµС‚СЂР° $w_1$ РїСЂРё $w_0$ = 50. РџРѕРґРїРёС€РёС‚Рµ РѕСЃРё Рё РіСЂР°С„РёРє."
   ]
  },
  {
   "cell_type": "code",
   "execution_count": 14,
   "metadata": {},
   "outputs": [],
   "source": [
    "# Р’Р°С€ РєРѕРґ Р·РґРµСЃСЊ"
   ]
  },
  {
   "cell_type": "markdown",
   "metadata": {},
   "source": [
    "РўРµРїРµСЂСЊ РјРµС‚РѕРґРѕРј РѕРїС‚РёРјРёР·Р°С†РёРё РЅР°Р№РґРµРј \"РѕРїС‚РёРјР°Р»СЊРЅС‹Р№\" РЅР°РєР»РѕРЅ РїСЂСЏРјРѕР№, РїСЂРёР±Р»РёР¶Р°СЋС‰РµР№ Р·Р°РІРёСЃРёРјРѕСЃС‚СЊ СЂРѕСЃС‚Р° РѕС‚ РІРµСЃР°, РїСЂРё С„РёРєСЃРёСЂРѕРІР°РЅРЅРѕРј РєРѕСЌС„С„РёС†РёРµРЅС‚Рµ $w_0 = 50$.\n",
    "\n",
    "**[9].** РЎ РїРѕРјРѕС‰СЊСЋ РјРµС‚РѕРґР° *minimize_scalar* РёР· *scipy.optimize* РЅР°Р№РґРёС‚Рµ РјРёРЅРёРјСѓРј С„СѓРЅРєС†РёРё, РѕРїСЂРµРґРµР»РµРЅРЅРѕР№ РІ Рї. 6, РґР»СЏ Р·РЅР°С‡РµРЅРёР№ РїР°СЂР°РјРµС‚СЂР°  $w_1$ РІ РґРёР°РїР°Р·РѕРЅРµ [-5,5]. РџСЂРѕРІРµРґРёС‚Рµ РЅР° РіСЂР°С„РёРєРµ РёР· Рї. 5 Р—Р°РґР°РЅРёСЏ 1 РїСЂСЏРјСѓСЋ, СЃРѕРѕС‚РІРµС‚СЃС‚РІСѓСЋС‰СѓСЋ Р·РЅР°С‡РµРЅРёСЏРј РїР°СЂР°РјРµС‚СЂРѕРІ ($w_0$, $w_1$) = (50, $w_1\\_opt$), РіРґРµ $w_1\\_opt$ вЂ“ РЅР°Р№РґРµРЅРЅРѕРµ РІ Рї. 8 РѕРїС‚РёРјР°Р»СЊРЅРѕРµ Р·РЅР°С‡РµРЅРёРµ РїР°СЂР°РјРµС‚СЂР° $w_1$. "
   ]
  },
  {
   "cell_type": "code",
   "execution_count": 15,
   "metadata": {},
   "outputs": [],
   "source": [
    "# Р’Р°С€ РєРѕРґ Р·РґРµСЃСЊ"
   ]
  },
  {
   "cell_type": "code",
   "execution_count": 16,
   "metadata": {},
   "outputs": [],
   "source": [
    "# Р’Р°С€ РєРѕРґ Р·РґРµСЃСЊ"
   ]
  },
  {
   "cell_type": "markdown",
   "metadata": {},
   "source": [
    "РџСЂРё Р°РЅР°Р»РёР·Рµ РјРЅРѕРіРѕРјРµСЂРЅС‹С… РґР°РЅРЅС‹С… С‡РµР»РѕРІРµРє С‡Р°СЃС‚Рѕ С…РѕС‡РµС‚ РїРѕР»СѓС‡РёС‚СЊ РёРЅС‚СѓРёС‚РёРІРЅРѕРµ РїСЂРµРґСЃС‚Р°РІР»РµРЅРёРµ Рѕ РїСЂРёСЂРѕРґРµ РґР°РЅРЅС‹С… СЃ РїРѕРјРѕС‰СЊСЋ РІРёР·СѓР°Р»РёР·Р°С†РёРё. РЈРІС‹, РїСЂРё С‡РёСЃР»Рµ РїСЂРёР·РЅР°РєРѕРІ Р±РѕР»СЊС€Рµ 3 С‚Р°РєРёРµ РєР°СЂС‚РёРЅРєРё РЅР°СЂРёСЃРѕРІР°С‚СЊ РЅРµРІРѕР·РјРѕР¶РЅРѕ. РќР° РїСЂР°РєС‚РёРєРµ РґР»СЏ РІРёР·СѓР°Р»РёР·Р°С†РёРё РґР°РЅРЅС‹С… РІ 2D Рё 3D РІ РґР°РЅРЅС‹С… РІС‹РґРµР»Р°СЏСЋС‚ 2 РёР»Рё, СЃРѕРѕС‚РІРµС‚СЃС‚РІРµРЅРЅРѕ, 3 РіР»Р°РІРЅС‹Рµ РєРѕРјРїРѕРЅРµРЅС‚С‹ (РєР°Рє РёРјРµРЅРЅРѕ СЌС‚Рѕ РґРµР»Р°РµС‚СЃСЏ - РјС‹ СѓРІРёРґРёРј РґР°Р»РµРµ РІ РєСѓСЂСЃРµ) Рё РѕС‚РѕР±СЂР°Р¶Р°СЋС‚ РґР°РЅРЅС‹Рµ РЅР° РїР»РѕСЃРєРѕСЃС‚Рё РёР»Рё РІ РѕР±СЉРµРјРµ. \n",
    "\n",
    "РџРѕСЃРјРѕС‚СЂРёРј, РєР°Рє РІ Python СЂРёСЃРѕРІР°С‚СЊ 3D РєР°СЂС‚РёРЅРєРё, РЅР° РїСЂРёРјРµСЂРµ РѕС‚РѕР±СЂР°Р¶РµРЅРёСЏ С„СѓРЅРєС†РёРё $z(x,y) = sin(\\sqrt{x^2+y^2})$ РґР»СЏ Р·РЅР°С‡РµРЅРёР№ $x$ Рё $y$ РёР· РёРЅС‚РµСЂРІР°Р»Р° [-5,5] c С€Р°РіРѕРј 0.25."
   ]
  },
  {
   "cell_type": "code",
   "execution_count": 17,
   "metadata": {},
   "outputs": [],
   "source": [
    "from mpl_toolkits.mplot3d import Axes3D"
   ]
  },
  {
   "cell_type": "markdown",
   "metadata": {},
   "source": [
    "РЎРѕР·РґР°РµРј РѕР±СЉРµРєС‚С‹ С‚РёРїР° matplotlib.figure.Figure (СЂРёСЃСѓРЅРѕРє) Рё  matplotlib.axes._subplots.Axes3DSubplot (РѕСЃСЊ). "
   ]
  },
  {
   "cell_type": "code",
   "execution_count": 18,
   "metadata": {},
   "outputs": [
    {
     "data": {
      "image/png": "[encoded data removed]",
      "text/plain": [
       "<Figure size 432x288 with 1 Axes>"
      ]
     },
     "metadata": {
      "needs_background": "light"
     },
     "output_type": "display_data"
    }
   ],
   "source": [
    "fig = plt.figure()\n",
    "ax = fig.gca(projection='3d') # get current axis\n",
    "\n",
    "# РЎРѕР·РґР°РµРј РјР°СЃСЃРёРІС‹ NumPy СЃ РєРѕРѕСЂРґРёРЅР°С‚Р°РјРё С‚РѕС‡РµРє РїРѕ РѕСЃСЏРј X Рё РЈ. \n",
    "# РСЃРїРѕР»СЊР·СѓРµРј РјРµС‚РѕРґ meshgrid, РїСЂРё РєРѕС‚РѕСЂРѕРј РїРѕ РІРµРєС‚РѕСЂР°Рј РєРѕРѕСЂРґРёРЅР°С‚ \n",
    "# СЃРѕР·РґР°РµС‚СЃСЏ РјР°С‚СЂРёС†Р° РєРѕРѕСЂРґРёРЅР°С‚. Р—Р°РґР°РµРј РЅСѓР¶РЅСѓСЋ С„СѓРЅРєС†РёСЋ Z(x, y).\n",
    "X = np.arange(-5, 5, 0.25)\n",
    "Y = np.arange(-5, 5, 0.25)\n",
    "X, Y = np.meshgrid(X, Y)\n",
    "Z = np.sin(np.sqrt(X**2 + Y**2))\n",
    "\n",
    "# РќР°РєРѕРЅРµС†, РёСЃРїРѕР»СЊР·СѓРµРј РјРµС‚РѕРґ *plot_surface* РѕР±СЉРµРєС‚Р° \n",
    "# С‚РёРїР° Axes3DSubplot. РўР°РєР¶Рµ РїРѕРґРїРёСЃС‹РІР°РµРј РѕСЃРё.\n",
    "surf = ax.plot_surface(X, Y, Z)\n",
    "ax.set_xlabel('X')\n",
    "ax.set_ylabel('Y')\n",
    "ax.set_zlabel('Z')\n",
    "plt.show()"
   ]
  },
  {
   "cell_type": "markdown",
   "metadata": {},
   "source": [
    "**[10].** РџРѕСЃС‚СЂРѕР№С‚Рµ 3D-РіСЂР°С„РёРє Р·Р°РІРёСЃРёРјРѕСЃС‚Рё С„СѓРЅРєС†РёРё РѕС€РёР±РєРё, РїРѕСЃС‡РёС‚Р°РЅРЅРѕР№ РІ Рї.6 РѕС‚ РїР°СЂР°РјРµС‚СЂРѕРІ $w_0$ Рё $w_1$. РџРѕРґРїРёС€РёС‚Рµ РѕСЃСЊ $x$ РјРµС‚РєРѕР№ В«InterceptВ», РѕСЃСЊ $y$ вЂ“ РјРµС‚РєРѕР№ В«SlopeВ», a РѕСЃСЊ $z$ вЂ“ РјРµС‚РєРѕР№ В«ErrorВ»."
   ]
  },
  {
   "cell_type": "code",
   "execution_count": 19,
   "metadata": {},
   "outputs": [],
   "source": [
    "# Р’Р°С€ РєРѕРґ Р·РґРµСЃСЊ"
   ]
  },
  {
   "cell_type": "code",
   "execution_count": 20,
   "metadata": {},
   "outputs": [],
   "source": [
    "# Р’Р°С€ РєРѕРґ Р·РґРµСЃСЊ"
   ]
  },
  {
   "cell_type": "code",
   "execution_count": 21,
   "metadata": {},
   "outputs": [],
   "source": [
    "# Р’Р°С€ РєРѕРґ Р·РґРµСЃСЊ"
   ]
  },
  {
   "cell_type": "markdown",
   "metadata": {},
   "source": [
    "**[11].** РЎ РїРѕРјРѕС‰СЊСЋ РјРµС‚РѕРґР° *minimize* РёР· scipy.optimize РЅР°Р№РґРёС‚Рµ РјРёРЅРёРјСѓРј С„СѓРЅРєС†РёРё, РѕРїСЂРµРґРµР»РµРЅРЅРѕР№ РІ Рї. 6, РґР»СЏ Р·РЅР°С‡РµРЅРёР№ РїР°СЂР°РјРµС‚СЂР° $w_0$ РІ РґРёР°РїР°Р·РѕРЅРµ [-100,100] Рё $w_1$ - РІ РґРёР°РїР°Р·РѕРЅРµ [-5, 5]. РќР°С‡Р°Р»СЊРЅР°СЏ С‚РѕС‡РєР° вЂ“ ($w_0$, $w_1$) = (0, 0). РСЃРїРѕР»СЊР·СѓР№С‚Рµ РјРµС‚РѕРґ РѕРїС‚РёРјРёР·Р°С†РёРё L-BFGS-B (Р°СЂРіСѓРјРµРЅС‚ method РјРµС‚РѕРґР° minimize). РџСЂРѕРІРµРґРёС‚Рµ РЅР° РіСЂР°С„РёРєРµ РёР· Рї. 5 Р—Р°РґР°РЅРёСЏ 1 РїСЂСЏРјСѓСЋ, СЃРѕРѕС‚РІРµС‚СЃС‚РІСѓСЋС‰СѓСЋ РЅР°Р№РґРµРЅРЅС‹Рј РѕРїС‚РёРјР°Р»СЊРЅС‹Рј Р·РЅР°С‡РµРЅРёСЏРј РїР°СЂР°РјРµС‚СЂРѕРІ $w_0$ Рё $w_1$. РџРѕРґРїРёС€РёС‚Рµ РѕСЃРё Рё РіСЂР°С„РёРє."
   ]
  },
  {
   "cell_type": "code",
   "execution_count": 22,
   "metadata": {},
   "outputs": [],
   "source": [
    "# Р’Р°С€ РєРѕРґ Р·РґРµСЃСЊ"
   ]
  },
  {
   "cell_type": "code",
   "execution_count": 23,
   "metadata": {},
   "outputs": [],
   "source": [
    "# Р’Р°С€ РєРѕРґ Р·РґРµСЃСЊ"
   ]
  },
  {
   "cell_type": "markdown",
   "metadata": {},
   "source": [
    "## РљСЂРёС‚РµСЂРёРё РѕС†РµРЅРєРё СЂР°Р±РѕС‚С‹"
   ]
  },
  {
   "cell_type": "markdown",
   "metadata": {},
   "source": [
    "- Р’С‹РїРѕР»РЅСЏРµС‚СЃСЏ Р»Рё С‚РµС‚СЂР°РґРєР° IPython Р±РµР· РѕС€РёР±РѕРє? (15 Р±Р°Р»Р»РѕРІ)\n",
    "- Р’РµСЂРЅРѕ Р»Рё РѕС‚РѕР±СЂР°Р¶РµРЅР° РіРёСЃС‚РѕРіСЂР°РјРјР° СЂР°СЃРїСЂРµРґРµР»РµРЅРёСЏ СЂРѕСЃС‚Р° РёР· Рї. 2? (3 Р±Р°Р»Р»Р°). РџСЂР°РІРёР»СЊРЅРѕ Р»Рё РѕС„РѕСЂРјР»РµРЅС‹ РїРѕРґРїРёСЃРё? (1 Р±Р°Р»Р»)\n",
    "- Р’РµСЂРЅРѕ Р»Рё РѕС‚РѕР±СЂР°Р¶РµРЅС‹ РїРѕРїР°СЂРЅС‹Рµ Р·Р°РІРёСЃРёРјРѕСЃС‚Рё РїСЂРёР·РЅР°РєРѕРІ РёР· Рї. 3? (3 Р±Р°Р»Р»Р°). РџСЂР°РІРёР»СЊРЅРѕ Р»Рё РѕС„РѕСЂРјР»РµРЅС‹ РїРѕРґРїРёСЃРё? (1 Р±Р°Р»Р»)\n",
    "- Р’РµСЂРЅРѕ Р»Рё РѕС‚РѕР±СЂР°Р¶РµРЅР° Р·Р°РІРёСЃРёРјРѕСЃС‚СЊ СЂРѕСЃС‚Р° РѕС‚ РІРµСЃРѕРІРѕР№ РєР°С‚РµРіРѕСЂРёРё РёР· Рї. 4? (3 Р±Р°Р»Р»Р°). РџСЂР°РІРёР»СЊРЅРѕ Р»Рё РѕС„РѕСЂРјР»РµРЅС‹ РїРѕРґРїРёСЃРё? (1 Р±Р°Р»Р»)\n",
    "- Р’РµСЂРЅРѕ Р»Рё РѕС‚РѕР±СЂР°Р¶РµРЅ scatter plot СЂРѕСЃС‚Р° РѕС‚ РІРµСЃР° РёР· Рї. 5? (3 Р±Р°Р»Р»Р°). РџСЂР°РІРёР»СЊРЅРѕ Р»Рё РѕС„РѕСЂРјР»РµРЅС‹ РїРѕРґРїРёСЃРё? (1 Р±Р°Р»Р»)\n",
    "- РџСЂР°РІРёР»СЊРЅРѕ Р»Рё СЂРµР°Р»РёР·РѕРІР°РЅР° С„СѓРЅРєС†РёСЏ РїРѕРґСЃС‡РµС‚Р° РєРІР°РґСЂР°С‚РёС‡РЅРѕР№ РѕС€РёР±РєРё РёР· Рї. 6? (10 Р±Р°Р»Р»РѕРІ)\n",
    "- РџСЂР°РІРёР»СЊРЅРѕ Р»Рё РЅР°СЂРёСЃРѕРІР°РЅ РіСЂР°С„РёРє РёР· Рї. 7? (3 Р±Р°Р»Р»Р°) РџСЂР°РІРёР»СЊРЅРѕ Р»Рё РѕС„РѕСЂРјР»РµРЅС‹ РїРѕРґРїРёСЃРё? (1 Р±Р°Р»Р»)\n",
    "- РџСЂР°РІРёР»СЊРЅРѕ Р»Рё РЅР°СЂРёСЃРѕРІР°РЅ РіСЂР°С„РёРє РёР· Рї. 8? (3 Р±Р°Р»Р»Р°) РџСЂР°РІРёР»СЊРЅРѕ Р»Рё РѕС„РѕСЂРјР»РµРЅС‹ РїРѕРґРїРёСЃРё? (1 Р±Р°Р»Р»)\n",
    "- РџСЂР°РІРёР»СЊРЅРѕ Р»Рё РёСЃРїРѕР»СЊР·СѓРµС‚СЃСЏ РјРµС‚РѕРґ minimize\\_scalar РёР· scipy.optimize? (6 Р±Р°Р»Р»РѕРІ). РџСЂР°РІРёР»СЊРЅРѕ Р»Рё РЅР°СЂРёСЃРѕРІР°РЅ РіСЂР°С„РёРє РёР· Рї. 9? (3 Р±Р°Р»Р»Р°) РџСЂР°РІРёР»СЊРЅРѕ Р»Рё РѕС„РѕСЂРјР»РµРЅС‹ РїРѕРґРїРёСЃРё? (1 Р±Р°Р»Р»)\n",
    "- РџСЂР°РІРёР»СЊРЅРѕ Р»Рё РЅР°СЂРёСЃРѕРІР°РЅ 3D-РіСЂР°С„РёРє РёР· Рї. 10? (6 Р±Р°Р»Р»РѕРІ) РџСЂР°РІРёР»СЊРЅРѕ Р»Рё РѕС„РѕСЂРјР»РµРЅС‹ РїРѕРґРїРёСЃРё? (1 Р±Р°Р»Р»)\n",
    "- РџСЂР°РІРёР»СЊРЅРѕ Р»Рё РёСЃРїРѕР»СЊР·СѓРµС‚СЃСЏ РјРµС‚РѕРґ minimize РёР· scipy.optimize? (6 Р±Р°Р»Р»РѕРІ). РџСЂР°РІРёР»СЊРЅРѕ Р»Рё РЅР°СЂРёСЃРѕРІР°РЅ РіСЂР°С„РёРє РёР· Рї. 11? (3 Р±Р°Р»Р»Р°). РџСЂР°РІРёР»СЊРЅРѕ Р»Рё РѕС„РѕСЂРјР»РµРЅС‹ РїРѕРґРїРёСЃРё? (1 Р±Р°Р»Р»)"
   ]
  },
  {
   "cell_type": "code",
   "execution_count": null,
   "metadata": {},
   "outputs": [],
   "source": []
  },
  {
   "cell_type": "code",
   "execution_count": null,
   "metadata": {},
   "outputs": [],
   "source": []
  },
  {
   "cell_type": "code",
   "execution_count": null,
   "metadata": {},
   "outputs": [],
   "source": []
  }
 ],
 "metadata": {
  "kernelspec": {
   "display_name": "Python 3",
   "language": "python",
   "name": "python3"
  },
  "language_info": {
   "codemirror_mode": {
    "name": "ipython",
    "version": 3
   },
   "file_extension": ".py",
   "mimetype": "text/x-python",
   "name": "python",
   "nbconvert_exporter": "python",
   "pygments_lexer": "ipython3",
   "version": "3.7.6"
  }
 },
 "nbformat": 4,
 "nbformat_minor": 1
}
